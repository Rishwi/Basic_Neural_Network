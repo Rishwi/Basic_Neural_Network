{
  "nbformat": 4,
  "nbformat_minor": 0,
  "metadata": {
    "colab": {
      "name": "NeuralNetwork.ipynb",
      "version": "0.3.2",
      "provenance": [],
      "collapsed_sections": []
    },
    "kernelspec": {
      "name": "python3",
      "display_name": "Python 3"
    }
  },
  "cells": [
    {
      "cell_type": "code",
      "metadata": {
        "id": "7wz-EbuiFtVI",
        "colab_type": "code",
        "colab": {}
      },
      "source": [
        "import numpy\n",
        "\n",
        "class NeuralNetwork:\n",
        "  def __init__(self,x,y):\n",
        "    self.input = x\n",
        "    self.w1 = np.random.rand(self.input.shape[1], 4)\n",
        "    self.w2 = np.random.rand(4,1)\n",
        "    self.y = y\n",
        "    self.out = np.zeros(self.y.shape)\n",
        "    \n",
        "    \n",
        "  def feedforward(self):\n",
        "    self.l1 = sigmoid(np.dot(self.iput, self.w1))\n",
        "    self.out = sigmoid(np.dot(self.l1, self.w2))\n",
        "    \n",
        "  def backprop(self):\n",
        "    d_w2 = np.dot(self.layer.T, (2*(self.y - self.out)*sigmoid_derivative(self.out)))\n",
        "    d_w1 = np.dot(self.input.T, (np.dot(2*(self.y - self.out)*sigmoid_derivative(self.out), self.w2.T)*sigmoid_derivative(self.l1)))\n",
        "    \n",
        "    self.w1 += d_w1\n",
        "    self.w2 += d_w2"
      ],
      "execution_count": 0,
      "outputs": []
    }
  ]
}